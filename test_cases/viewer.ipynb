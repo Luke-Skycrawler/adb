{
 "cells": [
  {
   "cell_type": "code",
   "execution_count": 38,
   "metadata": {},
   "outputs": [
    {
     "name": "stdout",
     "output_type": "stream",
     "text": [
      "40 (60, 3) (12, 3)\n"
     ]
    },
    {
     "data": {
      "application/vnd.jupyter.widget-view+json": {
       "model_id": "a3420391ee77449aa902332945c69531",
       "version_major": 2,
       "version_minor": 0
      },
      "text/plain": [
       "Renderer(camera=PerspectiveCamera(children=(DirectionalLight(color='white', intensity=0.6, position=(0.3179194…"
      ]
     },
     "metadata": {},
     "output_type": "display_data"
    },
    {
     "name": "stdout",
     "output_type": "stream",
     "text": [
      "Plot saved to file view.html.\n"
     ]
    },
    {
     "ename": "TraitError",
     "evalue": "The 'target' trait of a DirectionalLight instance expected an Uninitialized or an Object3D, not the str 'IPY_MODEL_e4b0e686-dc9b-4bff-a076-4a586c952562'.",
     "output_type": "error",
     "traceback": [
      "\u001b[1;31m---------------------------------------------------------------------------\u001b[0m",
      "\u001b[1;31mTraitError\u001b[0m                                Traceback (most recent call last)",
      "File \u001b[1;32mc:\\Users\\shay\\.conda\\envs\\taichi\\lib\\site-packages\\ipywidgets\\widgets\\widget.py:766\u001b[0m, in \u001b[0;36mWidget._handle_msg\u001b[1;34m(self, msg)\u001b[0m\n\u001b[0;32m    764\u001b[0m         \u001b[39mif\u001b[39;00m \u001b[39m'\u001b[39m\u001b[39mbuffer_paths\u001b[39m\u001b[39m'\u001b[39m \u001b[39min\u001b[39;00m data:\n\u001b[0;32m    765\u001b[0m             _put_buffers(state, data[\u001b[39m'\u001b[39m\u001b[39mbuffer_paths\u001b[39m\u001b[39m'\u001b[39m], msg[\u001b[39m'\u001b[39m\u001b[39mbuffers\u001b[39m\u001b[39m'\u001b[39m])\n\u001b[1;32m--> 766\u001b[0m         \u001b[39mself\u001b[39;49m\u001b[39m.\u001b[39;49mset_state(state)\n\u001b[0;32m    768\u001b[0m \u001b[39m# Handle a state request.\u001b[39;00m\n\u001b[0;32m    769\u001b[0m \u001b[39melif\u001b[39;00m method \u001b[39m==\u001b[39m \u001b[39m'\u001b[39m\u001b[39mrequest_state\u001b[39m\u001b[39m'\u001b[39m:\n",
      "File \u001b[1;32mc:\\Users\\shay\\.conda\\envs\\taichi\\lib\\site-packages\\ipywidgets\\widgets\\widget.py:648\u001b[0m, in \u001b[0;36mWidget.set_state\u001b[1;34m(self, sync_data)\u001b[0m\n\u001b[0;32m    645\u001b[0m \u001b[39mif\u001b[39;00m name \u001b[39min\u001b[39;00m \u001b[39mself\u001b[39m\u001b[39m.\u001b[39mkeys:\n\u001b[0;32m    646\u001b[0m     from_json \u001b[39m=\u001b[39m \u001b[39mself\u001b[39m\u001b[39m.\u001b[39mtrait_metadata(name, \u001b[39m'\u001b[39m\u001b[39mfrom_json\u001b[39m\u001b[39m'\u001b[39m,\n\u001b[0;32m    647\u001b[0m                                     \u001b[39mself\u001b[39m\u001b[39m.\u001b[39m_trait_from_json)\n\u001b[1;32m--> 648\u001b[0m     \u001b[39mself\u001b[39;49m\u001b[39m.\u001b[39;49mset_trait(name, from_json(sync_data[name], \u001b[39mself\u001b[39;49m))\n",
      "File \u001b[1;32mc:\\Users\\shay\\.conda\\envs\\taichi\\lib\\site-packages\\traitlets\\traitlets.py:1741\u001b[0m, in \u001b[0;36mHasTraits.set_trait\u001b[1;34m(self, name, value)\u001b[0m\n\u001b[0;32m   1739\u001b[0m     \u001b[39mraise\u001b[39;00m TraitError(\u001b[39mf\u001b[39m\u001b[39m\"\u001b[39m\u001b[39mClass \u001b[39m\u001b[39m{\u001b[39;00m\u001b[39mcls\u001b[39m\u001b[39m.\u001b[39m\u001b[39m__name__\u001b[39m\u001b[39m}\u001b[39;00m\u001b[39m does not have a trait named \u001b[39m\u001b[39m{\u001b[39;00mname\u001b[39m}\u001b[39;00m\u001b[39m\"\u001b[39m)\n\u001b[0;32m   1740\u001b[0m \u001b[39melse\u001b[39;00m:\n\u001b[1;32m-> 1741\u001b[0m     \u001b[39mgetattr\u001b[39;49m(\u001b[39mcls\u001b[39;49m, name)\u001b[39m.\u001b[39;49mset(\u001b[39mself\u001b[39;49m, value)\n",
      "File \u001b[1;32mc:\\Users\\shay\\.conda\\envs\\taichi\\lib\\site-packages\\traitlets\\traitlets.py:706\u001b[0m, in \u001b[0;36mTraitType.set\u001b[1;34m(self, obj, value)\u001b[0m\n\u001b[0;32m    705\u001b[0m \u001b[39mdef\u001b[39;00m \u001b[39mset\u001b[39m(\u001b[39mself\u001b[39m, obj, value):\n\u001b[1;32m--> 706\u001b[0m     new_value \u001b[39m=\u001b[39m \u001b[39mself\u001b[39;49m\u001b[39m.\u001b[39;49m_validate(obj, value)\n\u001b[0;32m    707\u001b[0m     \u001b[39mtry\u001b[39;00m:\n\u001b[0;32m    708\u001b[0m         old_value \u001b[39m=\u001b[39m obj\u001b[39m.\u001b[39m_trait_values[\u001b[39mself\u001b[39m\u001b[39m.\u001b[39mname]\n",
      "File \u001b[1;32mc:\\Users\\shay\\.conda\\envs\\taichi\\lib\\site-packages\\traitlets\\traitlets.py:738\u001b[0m, in \u001b[0;36mTraitType._validate\u001b[1;34m(self, obj, value)\u001b[0m\n\u001b[0;32m    736\u001b[0m     \u001b[39mreturn\u001b[39;00m value\n\u001b[0;32m    737\u001b[0m \u001b[39mif\u001b[39;00m \u001b[39mhasattr\u001b[39m(\u001b[39mself\u001b[39m, \u001b[39m\"\u001b[39m\u001b[39mvalidate\u001b[39m\u001b[39m\"\u001b[39m):\n\u001b[1;32m--> 738\u001b[0m     value \u001b[39m=\u001b[39m \u001b[39mself\u001b[39;49m\u001b[39m.\u001b[39;49mvalidate(obj, value)\n\u001b[0;32m    739\u001b[0m \u001b[39mif\u001b[39;00m obj\u001b[39m.\u001b[39m_cross_validation_lock \u001b[39mis\u001b[39;00m \u001b[39mFalse\u001b[39;00m:\n\u001b[0;32m    740\u001b[0m     value \u001b[39m=\u001b[39m \u001b[39mself\u001b[39m\u001b[39m.\u001b[39m_cross_validate(obj, value)\n",
      "File \u001b[1;32mc:\\Users\\shay\\.conda\\envs\\taichi\\lib\\site-packages\\traitlets\\traitlets.py:2305\u001b[0m, in \u001b[0;36mUnion.validate\u001b[1;34m(self, obj, value)\u001b[0m\n\u001b[0;32m   2303\u001b[0m         \u001b[39mexcept\u001b[39;00m TraitError:\n\u001b[0;32m   2304\u001b[0m             \u001b[39mcontinue\u001b[39;00m\n\u001b[1;32m-> 2305\u001b[0m \u001b[39mself\u001b[39;49m\u001b[39m.\u001b[39;49merror(obj, value)\n",
      "File \u001b[1;32mc:\\Users\\shay\\.conda\\envs\\taichi\\lib\\site-packages\\traitlets\\traitlets.py:844\u001b[0m, in \u001b[0;36mTraitType.error\u001b[1;34m(self, obj, value, error, info)\u001b[0m\n\u001b[0;32m    838\u001b[0m \u001b[39melse\u001b[39;00m:\n\u001b[0;32m    839\u001b[0m     e \u001b[39m=\u001b[39m \u001b[39m\"\u001b[39m\u001b[39mThe \u001b[39m\u001b[39m'\u001b[39m\u001b[39m{}\u001b[39;00m\u001b[39m'\u001b[39m\u001b[39m trait expected \u001b[39m\u001b[39m{}\u001b[39;00m\u001b[39m, not \u001b[39m\u001b[39m{}\u001b[39;00m\u001b[39m.\u001b[39m\u001b[39m\"\u001b[39m\u001b[39m.\u001b[39mformat(\n\u001b[0;32m    840\u001b[0m         \u001b[39mself\u001b[39m\u001b[39m.\u001b[39mname,\n\u001b[0;32m    841\u001b[0m         \u001b[39mself\u001b[39m\u001b[39m.\u001b[39minfo(),\n\u001b[0;32m    842\u001b[0m         describe(\u001b[39m\"\u001b[39m\u001b[39mthe\u001b[39m\u001b[39m\"\u001b[39m, value),\n\u001b[0;32m    843\u001b[0m     )\n\u001b[1;32m--> 844\u001b[0m \u001b[39mraise\u001b[39;00m TraitError(e)\n",
      "\u001b[1;31mTraitError\u001b[0m: The 'target' trait of a DirectionalLight instance expected an Uninitialized or an Object3D, not the str 'IPY_MODEL_e4b0e686-dc9b-4bff-a076-4a586c952562'."
     ]
    }
   ],
   "source": [
    "import meshio\n",
    "import meshplot as mp\n",
    "import numpy as np\n",
    "from numpy import sin, cos\n",
    "# mp.offline()\n",
    "mp.jupyter()\n",
    "cube = meshio.read(\"../view/assets/cube.obj\")\n",
    "V0 = cube.points\n",
    "F = cube.cells[0].data\n",
    "\n",
    "def rotation(a, b, c):\n",
    "    '''\n",
    "    Tait-Bryan angle in ZYX order\n",
    "    '''\n",
    "    s1 = sin(a)\n",
    "    s2 = sin(b)\n",
    "    s3 = sin(c)\n",
    "\n",
    "    c1 = cos(a)\n",
    "    c2 = cos(b)\n",
    "    c3 = cos(c)\n",
    "\n",
    "    R = np.array([\n",
    "        [c1 * c2, c1 * s2 * s3 - c3 * s1, s1 * s3 + c1 * c3 * s2],\n",
    "        [c2 * s1, c1 * c3 + s1 * s2 * s3, c3 * s1 * s2 - c1 * s3],\n",
    "        [-s2, c2 * s3, c2 * c3]\n",
    "    ])\n",
    "    return R\n",
    "\n",
    "\n",
    "cubes = []\n",
    "args = np.array([213.417, 126.994, 145.515, -0.861929, 2.7898, -2.07337,   \n",
    "                                                                 \n",
    "259.378, 355.817, 257.796, 2.47546, 0.032991, 0.349613, \n",
    "\n",
    "12.3542, 352.773, 179.476, 2.86201, -0.820881, 1.07712,\n",
    "\n",
    "11.9767, 123.782, 319.581, -2.02277, 2.26418, -1.73819])\n",
    "\n",
    "def Cube(V0, euler , p) :\n",
    "    euler = euler / 180 * np.pi\n",
    "    r = rotation(*euler)\n",
    "    return (r @ V0.T + p.reshape((3, 1)) ).T\n",
    "\n",
    "VS = V0\n",
    "FS = F\n",
    "for i in range(len(args) // 6):\n",
    "    V1 = Cube(V0, args[i * 6: i * 6 + 3], np.array(args[i * 6 + 3: i * 6 + 6]))\n",
    "    # if i == 0:\n",
    "    #     VS = V1\n",
    "    #     FS = F\n",
    "    # else: \n",
    "    VS = np.vstack([VS, V1])\n",
    "    FS = np.vstack([FS, F])\n",
    "    F += V1.shape[0]\n",
    "print(VS.shape[0], FS.shape, F.shape)\n",
    "p = mp.plot(VS, FS)\n",
    "p.save(\"view.html\")"
   ]
  }
 ],
 "metadata": {
  "kernelspec": {
   "display_name": "taichi",
   "language": "python",
   "name": "python3"
  },
  "language_info": {
   "codemirror_mode": {
    "name": "ipython",
    "version": 3
   },
   "file_extension": ".py",
   "mimetype": "text/x-python",
   "name": "python",
   "nbconvert_exporter": "python",
   "pygments_lexer": "ipython3",
   "version": "3.8.13"
  },
  "orig_nbformat": 4,
  "vscode": {
   "interpreter": {
    "hash": "8fd57b56e410819807abebccab32bf3872db91e103032866f211c3ddbff28f8e"
   }
  }
 },
 "nbformat": 4,
 "nbformat_minor": 2
}
