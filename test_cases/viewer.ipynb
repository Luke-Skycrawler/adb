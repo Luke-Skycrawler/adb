{
 "cells": [
  {
   "cell_type": "code",
   "execution_count": 37,
   "metadata": {},
   "outputs": [
    {
     "ename": "TypeError",
     "evalue": "unsupported operand type(s) for /: 'list' and 'int'",
     "output_type": "error",
     "traceback": [
      "\u001b[1;31m---------------------------------------------------------------------------\u001b[0m",
      "\u001b[1;31mTypeError\u001b[0m                                 Traceback (most recent call last)",
      "Cell \u001b[1;32mIn[37], line 48\u001b[0m\n\u001b[0;32m     46\u001b[0m FS \u001b[39m=\u001b[39m F\n\u001b[0;32m     47\u001b[0m \u001b[39mfor\u001b[39;00m i \u001b[39min\u001b[39;00m \u001b[39mrange\u001b[39m(\u001b[39mlen\u001b[39m(args) \u001b[39m/\u001b[39m\u001b[39m/\u001b[39m \u001b[39m6\u001b[39m):\n\u001b[1;32m---> 48\u001b[0m     V1 \u001b[39m=\u001b[39m Cube(V0, args[i \u001b[39m*\u001b[39;49m \u001b[39m6\u001b[39;49m: i \u001b[39m*\u001b[39;49m \u001b[39m6\u001b[39;49m \u001b[39m+\u001b[39;49m \u001b[39m3\u001b[39;49m], np\u001b[39m.\u001b[39;49marray(args[i \u001b[39m*\u001b[39;49m \u001b[39m6\u001b[39;49m \u001b[39m+\u001b[39;49m \u001b[39m3\u001b[39;49m: i \u001b[39m*\u001b[39;49m \u001b[39m6\u001b[39;49m \u001b[39m+\u001b[39;49m \u001b[39m6\u001b[39;49m]))\n\u001b[0;32m     49\u001b[0m     \u001b[39m# if i == 0:\u001b[39;00m\n\u001b[0;32m     50\u001b[0m     \u001b[39m#     VS = V1\u001b[39;00m\n\u001b[0;32m     51\u001b[0m     \u001b[39m#     FS = F\u001b[39;00m\n\u001b[0;32m     52\u001b[0m     \u001b[39m# else: \u001b[39;00m\n\u001b[0;32m     53\u001b[0m     VS \u001b[39m=\u001b[39m np\u001b[39m.\u001b[39mvstack([VS, V1])\n",
      "Cell \u001b[1;32mIn[37], line 41\u001b[0m, in \u001b[0;36mCube\u001b[1;34m(V0, euler, p)\u001b[0m\n\u001b[0;32m     40\u001b[0m \u001b[39mdef\u001b[39;00m \u001b[39mCube\u001b[39m(V0, euler , p) :\n\u001b[1;32m---> 41\u001b[0m     euler \u001b[39m=\u001b[39m euler \u001b[39m/\u001b[39;49m \u001b[39m180\u001b[39;49m \u001b[39m*\u001b[39m np\u001b[39m.\u001b[39mpi\n\u001b[0;32m     42\u001b[0m     r \u001b[39m=\u001b[39m rotation(\u001b[39m*\u001b[39meuler)\n\u001b[0;32m     43\u001b[0m     \u001b[39mreturn\u001b[39;00m (r \u001b[39m@\u001b[39m V0\u001b[39m.\u001b[39mT \u001b[39m+\u001b[39m p\u001b[39m.\u001b[39mreshape((\u001b[39m3\u001b[39m, \u001b[39m1\u001b[39m)) )\u001b[39m.\u001b[39mT\n",
      "\u001b[1;31mTypeError\u001b[0m: unsupported operand type(s) for /: 'list' and 'int'"
     ]
    }
   ],
   "source": [
    "import meshio\n",
    "import meshplot as mp\n",
    "import numpy as np\n",
    "from numpy import sin, cos\n",
    "# mp.offline()\n",
    "mp.jupyter()\n",
    "cube = meshio.read(\"../view/assets/cube.obj\")\n",
    "V0 = cube.points\n",
    "F = cube.cells[0].data\n",
    "\n",
    "def rotation(a, b, c):\n",
    "    '''\n",
    "    Tait-Bryan angle in ZYX order\n",
    "    '''\n",
    "    s1 = sin(a)\n",
    "    s2 = sin(b)\n",
    "    s3 = sin(c)\n",
    "\n",
    "    c1 = cos(a)\n",
    "    c2 = cos(b)\n",
    "    c3 = cos(c)\n",
    "\n",
    "    R = np.array([\n",
    "        [c1 * c2, c1 * s2 * s3 - c3 * s1, s1 * s3 + c1 * c3 * s2],\n",
    "        [c2 * s1, c1 * c3 + s1 * s2 * s3, c3 * s1 * s2 - c1 * s3],\n",
    "        [-s2, c2 * s3, c2 * c3]\n",
    "    ])\n",
    "    return R\n",
    "\n",
    "\n",
    "cubes = []\n",
    "args = np.array([213.417, 126.994, 145.515, -0.861929, 2.7898, -2.07337,   \n",
    "                                                                 \n",
    "259.378, 355.817, 257.796, 2.47546, 0.032991, 0.349613, \n",
    "\n",
    "12.3542, 352.773, 179.476, 2.86201, -0.820881, 1.07712,\n",
    "\n",
    "11.9767, 123.782, 319.581, -2.02277, 2.26418, -1.73819])\n",
    "\n",
    "def Cube(V0, euler , p) :\n",
    "    euler = euler / 180 * np.pi\n",
    "    r = rotation(*euler)\n",
    "    return (r @ V0.T + p.reshape((3, 1)) ).T\n",
    "\n",
    "VS = V0\n",
    "FS = F\n",
    "for i in range(len(args) // 6):\n",
    "    V1 = Cube(V0, args[i * 6: i * 6 + 3], np.array(args[i * 6 + 3: i * 6 + 6]))\n",
    "    # if i == 0:\n",
    "    #     VS = V1\n",
    "    #     FS = F\n",
    "    # else: \n",
    "    VS = np.vstack([VS, V1])\n",
    "    FS = np.vstack([FS, F])\n",
    "    F += V1.shape[0]\n",
    "print(VS.shape[0], FS.shape, F.shape)\n",
    "p = mp.plot(VS, FS)\n",
    "p.save(\"view.html\")"
   ]
  }
 ],
 "metadata": {
  "kernelspec": {
   "display_name": "taichi",
   "language": "python",
   "name": "python3"
  },
  "language_info": {
   "codemirror_mode": {
    "name": "ipython",
    "version": 3
   },
   "file_extension": ".py",
   "mimetype": "text/x-python",
   "name": "python",
   "nbconvert_exporter": "python",
   "pygments_lexer": "ipython3",
   "version": "3.8.13"
  },
  "orig_nbformat": 4,
  "vscode": {
   "interpreter": {
    "hash": "8fd57b56e410819807abebccab32bf3872db91e103032866f211c3ddbff28f8e"
   }
  }
 },
 "nbformat": 4,
 "nbformat_minor": 2
}
