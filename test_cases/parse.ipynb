{
 "cells": [
  {
   "cell_type": "code",
   "execution_count": 5,
   "metadata": {},
   "outputs": [
    {
     "data": {
      "text/plain": [
       "<xml.dom.minidom.Document at 0x2653b610dc0>"
      ]
     },
     "execution_count": 5,
     "metadata": {},
     "output_type": "execute_result"
    }
   ],
   "source": [
    "from xml.dom.minidom import parse\n",
    "\n",
    "# document = parse(\"chins_net_16x16_ball-dt001.xml\")\n",
    "document = parse(\"chins_net_12x12-dt001.xml\")\n",
    "document"
   ]
  },
  {
   "cell_type": "code",
   "execution_count": 6,
   "metadata": {},
   "outputs": [],
   "source": [
    "scene = document.firstChild"
   ]
  },
  {
   "cell_type": "code",
   "execution_count": 5,
   "metadata": {},
   "outputs": [
    {
     "data": {
      "text/plain": [
       "<DOM Element: SimFramework at 0x286007f11f0>"
      ]
     },
     "execution_count": 5,
     "metadata": {},
     "output_type": "execute_result"
    }
   ],
   "source": [
    "document.documentElement"
   ]
  },
  {
   "cell_type": "code",
   "execution_count": 14,
   "metadata": {},
   "outputs": [
    {
     "data": {
      "text/plain": [
       "<DOM Text node \"'\\n'\">"
      ]
     },
     "execution_count": 14,
     "metadata": {},
     "output_type": "execute_result"
    }
   ],
   "source": [
    "t = scene.firstChild\n",
    "t = scene.lastChild\n",
    "t"
   ]
  },
  {
   "cell_type": "code",
   "execution_count": 35,
   "metadata": {},
   "outputs": [
    {
     "data": {
      "text/plain": [
       "''"
      ]
     },
     "execution_count": 35,
     "metadata": {},
     "output_type": "execute_result"
    }
   ],
   "source": [
    "scene.childNodes\n",
    "scene.getAttribute(attname=\"name\")\n",
    "scene.hasAttribute(\"name\")\n",
    "scene.nodeName\n",
    "scene.getAttribute(\"object\")\n",
    "scene.get"
   ]
  },
  {
   "cell_type": "code",
   "execution_count": 7,
   "metadata": {},
   "outputs": [],
   "source": [
    "import json\n",
    "def traverse(f, root):\n",
    "    f(root)\n",
    "    \n",
    "    for c in root.childNodes:\n",
    "        traverse(f, c)\n",
    "\n",
    "f = lambda x: print(x)\n",
    "\n",
    "def Object(rots, transs, static):\n",
    "    def str_to_floats(a):\n",
    "        b = a.split(\" \")\n",
    "        # print(b)\n",
    "        c = []\n",
    "        for r in b:\n",
    "            if len(r):\n",
    "                c.append(float(r))\n",
    "        return c[:3]\n",
    "    rot = str_to_floats(rots)\n",
    "    trans = str_to_floats(transs)\n",
    "    return {\n",
    "        \"obj\": \"assets/link.obj\",\n",
    "        \"omega\": [0.0, 0.0, 0.0], \n",
    "        \"p\": trans,\n",
    "        \"p_dot\": [0.0, 0.0, 0.0],\n",
    "        \"euler\": rot,\n",
    "        \"mass\": -1.0 if static else 1000.0\n",
    "    }\n",
    "\n",
    "\n",
    "objlist = []\n",
    "def filter_links(node):\n",
    "    global objlist\n",
    "    if not (node.nodeName == \"object\" or  node.nodeName == \"static_object\"):\n",
    "        return\n",
    "    static =  node.nodeName == \"static_object\"\n",
    "    if node.getAttribute(attname=\"name\") == \"link\":\n",
    "        rots, transs = '', ''\n",
    "        for c in node.childNodes:\n",
    "            if c.nodeName == \"rotation\":\n",
    "                # print(c)\n",
    "                rots = c.childNodes[0].data\n",
    "                # print(c.childNodes[0].data)\n",
    "\n",
    "            elif c.nodeName == \"translation\":\n",
    "                # print(c)\n",
    "                # print(c.childNodes[0].data)\n",
    "                transs = c.childNodes[0].data\n",
    "        objlist.append(Object(rots,transs, static))\n",
    "\n",
    "\n",
    "\n",
    "def reveal_type(node):\n",
    "    print(node.nodeName)\n",
    "traverse(filter_links, scene)\n",
    "with open('chains.json','w')as out:\n",
    "    json.dump(objlist, out)\n",
    "# traverse(reveal_type, scene)\n"
   ]
  }
 ],
 "metadata": {
  "kernelspec": {
   "display_name": "taichi",
   "language": "python",
   "name": "python3"
  },
  "language_info": {
   "codemirror_mode": {
    "name": "ipython",
    "version": 3
   },
   "file_extension": ".py",
   "mimetype": "text/x-python",
   "name": "python",
   "nbconvert_exporter": "python",
   "pygments_lexer": "ipython3",
   "version": "3.8.13"
  },
  "orig_nbformat": 4,
  "vscode": {
   "interpreter": {
    "hash": "8fd57b56e410819807abebccab32bf3872db91e103032866f211c3ddbff28f8e"
   }
  }
 },
 "nbformat": 4,
 "nbformat_minor": 2
}
